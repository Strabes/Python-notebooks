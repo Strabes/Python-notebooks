{
 "cells": [
  {
   "cell_type": "markdown",
   "metadata": {},
   "source": [
    "# Image Recognition with the Digits Dataset\n",
    "\n",
    "Author: Greg Strabel\n",
    "\n",
    "The purpose of this notebook is to demonstrate a few common machine learning algorithms for image recognition, in particular:\n",
    "    1. Gaussian Naive Bayes\n",
    "    2. Support Vector Classifier\n",
    "    3. Convolutional Neural Network\n",
    "    \n",
    "First we will take a look at some examples from the digits dataset:"
   ]
  },
  {
   "cell_type": "code",
   "execution_count": 2,
   "metadata": {
    "collapsed": false,
    "jupyter": {
     "outputs_hidden": false
    }
   },
   "outputs": [
    {
     "data": {
      "image/png": "[encoded data removed]",
      "text/plain": [
       "<Figure size 1440x432 with 10 Axes>"
      ]
     },
     "metadata": {
      "needs_background": "light"
     },
     "output_type": "display_data"
    }
   ],
   "source": [
    "import numpy as np\n",
    "import matplotlib.pyplot as plt\n",
    "from sklearn.naive_bayes import GaussianNB\n",
    "from sklearn import datasets, svm, metrics\n",
    "import tensorflow as tf\n",
    "from tensorflow import keras\n",
    "from tensorflow.keras.datasets import mnist\n",
    "from tensorflow.keras.models import Sequential\n",
    "from tensorflow.keras.layers import Dense, Dropout, Flatten, Conv2D, MaxPooling2D\n",
    "from tensorflow.keras.callbacks import EarlyStopping\n",
    "\n",
    "digits = datasets.load_digits()\n",
    "\n",
    "mlpFig, axes = plt.subplots(1,10,figsize = (20,6))\n",
    "for i in range(10):\n",
    "    ax = axes.ravel()[i]\n",
    "    ax.axis('off')\n",
    "    ax.imshow(digits.images[i], cmap=plt.cm.gray_r, interpolation='nearest')\n",
    "    ax.set_title('Target: %i' % digits.target[i])\n",
    "    \n",
    "plt.show()"
   ]
  },
  {
   "cell_type": "code",
   "execution_count": 3,
   "metadata": {},
   "outputs": [],
   "source": [
    "n_samples = len(digits.images)\n",
    "#data = digits.images.reshape((n_samples, -1))\n",
    "\n",
    "train_frac = 0.75\n",
    "n_train = int(train_frac * n_samples)\n",
    "\n",
    "x_train = digits.images[:n_train]\n",
    "y_train = digits.target[:n_train]\n",
    "\n",
    "x_test = digits.images[n_train:]\n",
    "y_test = digits.target[n_train:]"
   ]
  },
  {
   "cell_type": "markdown",
   "metadata": {},
   "source": [
    "### Gaussian Naive Bayes"
   ]
  },
  {
   "cell_type": "code",
   "execution_count": 4,
   "metadata": {
    "collapsed": false,
    "jupyter": {
     "outputs_hidden": false
    }
   },
   "outputs": [
    {
     "name": "stdout",
     "output_type": "stream",
     "text": [
      "Classification Report for Gaussian Naive Bayes Classifier: \n",
      "              precision    recall  f1-score   support\n",
      "\n",
      "           0       0.98      0.98      0.98        43\n",
      "           1       0.72      0.78      0.75        46\n",
      "           2       0.97      0.81      0.89        43\n",
      "           3       0.97      0.68      0.80        47\n",
      "           4       0.95      0.88      0.91        48\n",
      "           5       0.84      0.93      0.88        45\n",
      "           6       0.96      0.98      0.97        47\n",
      "           7       0.69      0.89      0.78        45\n",
      "           8       0.66      0.71      0.68        41\n",
      "           9       0.75      0.73      0.74        45\n",
      "\n",
      "    accuracy                           0.84       450\n",
      "   macro avg       0.85      0.84      0.84       450\n",
      "weighted avg       0.85      0.84      0.84       450\n",
      "\n",
      "\n"
     ]
    }
   ],
   "source": [
    "gnb = GaussianNB()\n",
    "gnb.fit(\n",
    "    x_train.reshape((len(x_train),-1)),\n",
    "    y_train\n",
    ")\n",
    "\n",
    "gnb_pred = gnb.predict(\n",
    "    x_test.reshape((len(x_test),-1))\n",
    ")\n",
    "\n",
    "print(\"Classification Report for Gaussian Naive Bayes Classifier: \\n%s\\n\"\n",
    "      % (metrics.classification_report(y_test, gnb_pred)))"
   ]
  },
  {
   "cell_type": "markdown",
   "metadata": {},
   "source": [
    "### Support Vector Classifier"
   ]
  },
  {
   "cell_type": "code",
   "execution_count": 5,
   "metadata": {
    "collapsed": false,
    "jupyter": {
     "outputs_hidden": false
    }
   },
   "outputs": [
    {
     "name": "stdout",
     "output_type": "stream",
     "text": [
      "Classification Report for Support Vector Classifier: \n",
      "              precision    recall  f1-score   support\n",
      "\n",
      "           0       1.00      0.98      0.99        43\n",
      "           1       0.98      1.00      0.99        46\n",
      "           2       1.00      1.00      1.00        43\n",
      "           3       0.98      0.85      0.91        47\n",
      "           4       0.98      0.94      0.96        48\n",
      "           5       0.94      0.98      0.96        45\n",
      "           6       0.98      1.00      0.99        47\n",
      "           7       0.98      1.00      0.99        45\n",
      "           8       0.89      0.98      0.93        41\n",
      "           9       0.96      0.96      0.96        45\n",
      "\n",
      "    accuracy                           0.97       450\n",
      "   macro avg       0.97      0.97      0.97       450\n",
      "weighted avg       0.97      0.97      0.97       450\n",
      "\n",
      "\n"
     ]
    }
   ],
   "source": [
    "svc = svm.SVC(gamma=0.001)\n",
    "svc.fit(\n",
    "    x_train.reshape((len(x_train),-1)),\n",
    "    y_train\n",
    ")\n",
    "\n",
    "svc_pred = svc.predict(\n",
    "    x_test.reshape((len(x_test),-1))\n",
    ")\n",
    "\n",
    "print(\"Classification Report for Support Vector Classifier: \\n%s\\n\"\n",
    "      % (metrics.classification_report(y_test, svc_pred)))"
   ]
  },
  {
   "cell_type": "markdown",
   "metadata": {},
   "source": [
    "### Convolutional Neural Network\n",
    "\n",
    "Finally, I train a [convolutional neural network](https://en.wikipedia.org/wiki/Convolutional_neural_network) with two convolution layers, max pooling and [dropout](https://www.cs.toronto.edu/~hinton/absps/JMLRdropout.pdf).\n",
    "\n",
    "The code for this network is adapted from [this](https://github.com/fchollet/keras/blob/master/examples/mnist_cnn.py) example."
   ]
  },
  {
   "cell_type": "code",
   "execution_count": 6,
   "metadata": {
    "collapsed": false,
    "jupyter": {
     "outputs_hidden": false
    }
   },
   "outputs": [],
   "source": [
    "batch_size = 128\n",
    "num_classes = 10\n",
    "epochs = 1000\n",
    "img_rows, img_cols = 8, 8\n",
    "val_percent_of_train = 0.2\n",
    "train_size = int(x_train.shape[0] * (1 - val_percent_of_train))"
   ]
  },
  {
   "cell_type": "code",
   "execution_count": 7,
   "metadata": {
    "collapsed": false,
    "jupyter": {
     "outputs_hidden": false
    }
   },
   "outputs": [
    {
     "name": "stdout",
     "output_type": "stream",
     "text": [
      "Epoch 00702: early stopping\n"
     ]
    }
   ],
   "source": [
    "input_shape = (img_rows, img_cols, 1)\n",
    "\n",
    "model = Sequential()\n",
    "model.add(Conv2D(\n",
    "    32, kernel_size=(3, 3), activation='relu',\n",
    "    input_shape=input_shape)\n",
    ")\n",
    "model.add(Conv2D(64, (3, 3), activation='relu'))\n",
    "model.add(MaxPooling2D(pool_size=(2, 2)))\n",
    "model.add(Dropout(0.25))\n",
    "model.add(Flatten())\n",
    "model.add(Dense(128, activation='relu'))\n",
    "model.add(Dropout(0.5))\n",
    "model.add(Dense(num_classes, activation='softmax'))\n",
    "\n",
    "model.compile(\n",
    "    loss = keras.losses.categorical_crossentropy,\n",
    "    optimizer = keras.optimizers.Adadelta(learning_rate = 0.01),\n",
    "    metrics = ['accuracy']\n",
    ")\n",
    "\n",
    "# early stopping criteria\n",
    "earlyStopping = EarlyStopping(\n",
    "    monitor = 'val_loss',\n",
    "    mode = 'min',\n",
    "    verbose = 1,\n",
    "    patience = 10\n",
    ")\n",
    "\n",
    "history = model.fit(\n",
    "    x_train[:train_size,:,:,np.newaxis],\n",
    "    keras.utils.to_categorical(y_train[:train_size], num_classes),\n",
    "    batch_size = batch_size,\n",
    "    epochs = epochs,\n",
    "    verbose = 0,\n",
    "    validation_data = (\n",
    "        x_train[train_size:,:,:,np.newaxis],\n",
    "        keras.utils.to_categorical(y_train[train_size:], num_classes)\n",
    "    ),\n",
    "    callbacks = [earlyStopping]\n",
    ")\n",
    "\n",
    "score = model.evaluate(\n",
    "    x_test[...,np.newaxis],\n",
    "    keras.utils.to_categorical(y_test, num_classes),\n",
    "    verbose=0\n",
    ")"
   ]
  },
  {
   "cell_type": "code",
   "execution_count": 8,
   "metadata": {
    "collapsed": false,
    "jupyter": {
     "outputs_hidden": false
    }
   },
   "outputs": [
    {
     "name": "stdout",
     "output_type": "stream",
     "text": [
      "\n",
      "\n",
      "\n",
      "Classification Report for Convolutional Neural Network Classifier: \n",
      "              precision    recall  f1-score   support\n",
      "\n",
      "           0       0.95      0.98      0.97        43\n",
      "           1       0.90      0.80      0.85        46\n",
      "           2       1.00      0.98      0.99        43\n",
      "           3       0.97      0.83      0.90        47\n",
      "           4       0.96      0.94      0.95        48\n",
      "           5       0.90      0.98      0.94        45\n",
      "           6       0.98      0.98      0.98        47\n",
      "           7       0.98      0.98      0.98        45\n",
      "           8       0.83      0.85      0.84        41\n",
      "           9       0.79      0.93      0.86        45\n",
      "\n",
      "    accuracy                           0.92       450\n",
      "   macro avg       0.93      0.92      0.92       450\n",
      "weighted avg       0.93      0.92      0.92       450\n",
      "\n",
      "\n"
     ]
    }
   ],
   "source": [
    "cnn_pred = model.predict_classes(x_test[...,np.newaxis])\n",
    "\n",
    "print(\"\\n\\n\\nClassification Report for Convolutional Neural Network Classifier: \\n%s\\n\"\n",
    "      % (metrics.classification_report(y_test, cnn_pred)))"
   ]
  }
 ],
 "metadata": {
  "kernelspec": {
   "display_name": "Python 3",
   "language": "python",
   "name": "python3"
  },
  "language_info": {
   "codemirror_mode": {
    "name": "ipython",
    "version": 3
   },
   "file_extension": ".py",
   "mimetype": "text/x-python",
   "name": "python",
   "nbconvert_exporter": "python",
   "pygments_lexer": "ipython3",
   "version": "3.7.4"
  }
 },
 "nbformat": 4,
 "nbformat_minor": 4
}
