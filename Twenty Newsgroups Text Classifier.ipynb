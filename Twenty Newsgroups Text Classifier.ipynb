{
 "cells": [
  {
   "cell_type": "markdown",
   "metadata": {},
   "source": [
    "# Twenty Newsgroups Text Classifier\n",
    "\n",
    "Author: Greg Strabel\n",
    "\n",
    "The purpose of this notebook is to demonstrate a few common machine learning algorithms for text classification, in particular:\n",
    "1. Ensembled Support Vector Classifiers\n",
    "2. Gaussian Naive Bayes\n",
    "3. Feedforward Neural Network\n",
    "\n",
    "The Twenty Newsgroups dataset is a collection of ~18,000 newsgroup posts on 20 subjects. It is one of the most popular datasets for evaluating text classifiers. To learn more about the specific version we use, see [here](http://scikit-learn.org/stable/datasets/twenty_newsgroups.html)."
   ]
  },
  {
   "cell_type": "code",
   "execution_count": 1,
   "metadata": {
    "collapsed": false
   },
   "outputs": [
    {
     "name": "stdout",
     "output_type": "stream",
     "text": [
      "An example of one of the posts:\n",
      "\n",
      "\n",
      " \n",
      "As one of the \"Clintonites\" cited above, I'll try to clarify since this\n",
      "is not a case of Clinton's \"dishonesty.\" (I won't necessarily defend him\n",
      "on other issues.)  \n",
      "\n",
      "There were NEVER any specific projects included in the Community\n",
      "Development Block Grant portion of the President's proposal.  Congressional\n",
      "Republicans, in an effort to discredit the stimulus package, selected what\n",
      "they felt were silly sounding projects from a wish-list of POTENTIAL \n",
      "projects prepared by the US Mayors' Conference before the stimulus package\n",
      "was ever proposed.  (The document in question was designed to pressure the\n",
      "White House to increase the size of the block grant proposal submitted\n",
      "to Congress.  It didn't work.)\n",
      "\n",
      "The $2.56(?) billion proposed in the stimulus package came nowhere close\n",
      "to covering the total estimated cost of the original wish-list.  If it\n",
      "were passed, communities would have to select which projects to fund and\n",
      "at what level.\n",
      "\n",
      "In the case of Spokane, Wa., Tom Foley's home district, no one ever\n",
      "expected to be able to refurbish a local swimming pool (one of the \n",
      "Republicans' examples) FROM THE FUNDS AVAILABLE IN THE STIMULUS\n",
      "PACKAGE since the estimated cost of doing so exceeded the total \n",
      "amount of block grant funds the city would receive from the stimulus \n",
      "package for ALL projects.  \n",
      "\n",
      "The plan, instead, was to use the money on public housing construction\n",
      "and remodeling to cope with a severe housing shortage.  (Yup, there are\n",
      "places where that is true.)  The swimming pool improvements were near the\n",
      "bottom of a long list of priorities prepared by the city.  The $3 million\n",
      "or so to be received would cover only a few of the most pressing\n",
      "priorities.\n",
      "\n",
      "If the block grants are cut from the stimulus package, it is these projects\n",
      "that will be affected by the lack of funds.  And that is why the Clinton\n",
      "administration has been publicizing the issue.\n",
      "\n",
      "A final point.  One may or may not like community block grants.  It is\n",
      "worth noting, however, that Congressional Republicans' opposition to them\n",
      "is new.  Since the Nixon administration, Republicans have generally \n",
      "supported such grants as an alternative to targeted federal spending,\n",
      "arguing that local governments are far better able to determine spending\n",
      "priorities than \"Washington bureaucrats.\"  \n",
      "\n",
      "Is it clear now?  Or is this all too complicated to understand?\n",
      "\n",
      "jsh\n"
     ]
    }
   ],
   "source": [
    "import numpy as np\n",
    "import matplotlib.pyplot as plt\n",
    "import pandas as pd\n",
    "from sklearn.metrics import classification_report\n",
    "\n",
    "# import 20newsgroups dataset and remove headers, footers and quotes\n",
    "from sklearn.datasets import fetch_20newsgroups\n",
    "from sklearn.utils import shuffle\n",
    "newsgroups_train = fetch_20newsgroups(subset='train',\n",
    "                remove = ('headers','footers','quotes'))\n",
    "newsgroups_train_features, newsgroups_train_targets = shuffle(newsgroups_train.data, newsgroups_train.target)\n",
    "\n",
    "newsgroups_test = fetch_20newsgroups(subset='test',\n",
    "                remove = ('headers','footers','quotes'))\n",
    "\n",
    "newsgroups_test_features, newsgroups_test_targets = shuffle(newsgroups_test.data, newsgroups_test.target)\n",
    "\n",
    "print('An example of one of the posts:\\n\\n\\n',newsgroups_train_features[0])"
   ]
  },
  {
   "cell_type": "markdown",
   "metadata": {},
   "source": [
    "Next I construct a vocabulary using term-frequency inverse-document-frequency vectorizing:"
   ]
  },
  {
   "cell_type": "code",
   "execution_count": 2,
   "metadata": {
    "collapsed": true
   },
   "outputs": [],
   "source": [
    "# Construct vocabulary using\n",
    "# term-frequency inverse-document-frequency vectorizer\n",
    "from sklearn.feature_extraction.text import TfidfVectorizer, CountVectorizer\n",
    "\n",
    "VOCAB_SIZE = 1000\n",
    "\n",
    "vectorizer = TfidfVectorizer(max_features = VOCAB_SIZE,\n",
    "                             token_pattern = '(?u)\\\\b\\\\w+\\\\b',\n",
    "                             stop_words = 'english'\n",
    "                            )\n",
    "\n",
    "# Construct corpus and target\n",
    "limit_samples = 10000\n",
    "train_corpus = newsgroups_train_features[0:limit_samples]\n",
    "train_target = newsgroups_train_targets[0:limit_samples]\n",
    "test_corpus = newsgroups_test_features[0:limit_samples]\n",
    "test_target = newsgroups_test_targets[0:limit_samples]\n",
    "X_train = vectorizer.fit_transform(train_corpus)\n",
    "X_test = vectorizer.transform(test_corpus)\n",
    "\n",
    "analyzer = vectorizer.build_analyzer()"
   ]
  },
  {
   "cell_type": "code",
   "execution_count": 3,
   "metadata": {
    "collapsed": true
   },
   "outputs": [],
   "source": [
    "analyzed_data_train = list(map(analyzer,train_corpus))\n",
    "analyzed_data_test = list(map(analyzer,test_corpus))"
   ]
  },
  {
   "cell_type": "markdown",
   "metadata": {},
   "source": [
    "Let's take a look at the tokens that remain after lowercasing and stripping English stopwords from the first newsgroup message:"
   ]
  },
  {
   "cell_type": "code",
   "execution_count": 4,
   "metadata": {
    "collapsed": false
   },
   "outputs": [
    {
     "name": "stdout",
     "output_type": "stream",
     "text": [
      "The tokens that remain after lowercasing and stripping English stopwords from the first newsgroup message: \n",
      "\n",
      " clintonites, cited, ll, try, clarify, case, clinton, s, dishonesty, won, t, necessarily, defend, issues, specific, projects, included, community, development, block, grant, portion, president, s, proposal, congressional, republicans, effort, discredit, stimulus, package, selected, felt, silly, sounding, projects, wish, list, potential, projects, prepared, mayors, conference, stimulus, package, proposed, document, question, designed, pressure, white, house, increase, size, block, grant, proposal, submitted, congress, didn, t, work, 2, 56, billion, proposed, stimulus, package, came, close, covering, total, estimated, cost, original, wish, list, passed, communities, select, projects, fund, level, case, spokane, wa, tom, foley, s, home, district, expected, able, refurbish, local, swimming, pool, republicans, examples, funds, available, stimulus, package, estimated, cost, doing, exceeded, total, block, grant, funds, city, receive, stimulus, package, projects, plan, instead, use, money, public, housing, construction, remodeling, cope, severe, housing, shortage, yup, places, true, swimming, pool, improvements, near, long, list, priorities, prepared, city, 3, million, received, cover, pressing, priorities, block, grants, cut, stimulus, package, projects, affected, lack, funds, clinton, administration, publicizing, issue, final, point, like, community, block, grants, worth, noting, congressional, republicans, opposition, new, nixon, administration, republicans, generally, supported, grants, alternative, targeted, federal, spending, arguing, local, governments, far, better, able, determine, spending, priorities, washington, bureaucrats, clear, complicated, understand, jsh\n"
     ]
    }
   ],
   "source": [
    "print('The tokens that remain after lowercasing and stripping English stopwords from the first newsgroup message:',\n",
    "      '\\n\\n',\n",
    "      ', '.join(analyzed_data_train[0]))"
   ]
  },
  {
   "cell_type": "markdown",
   "metadata": {},
   "source": [
    "Now we encode the posts using the tf-idf vectorizer and take a glimpse at the first post again:"
   ]
  },
  {
   "cell_type": "code",
   "execution_count": 5,
   "metadata": {
    "collapsed": false
   },
   "outputs": [
    {
     "name": "stdout",
     "output_type": "stream",
     "text": [
      "The first newsgroup message after stripping English stopwords, applying the tf-idf vectorizer and encoding: \n",
      "\n",
      " -1, -1, 552, 910, -1, 202, 232, 781, -1, 977, 871, -1, -1, 499, 844, -1, 477, 246, 303, 170, -1, -1, 708, 781, -1, -1, -1, -1, -1, -1, 660, -1, -1, -1, -1, -1, 973, 546, -1, -1, -1, -1, 253, -1, 660, -1, -1, 733, 301, -1, 966, 463, -1, 827, 170, -1, -1, -1, 254, 307, 871, 980, 28, -1, -1, -1, -1, 660, 194, 234, -1, 904, -1, 265, 655, 973, 546, -1, -1, -1, -1, -1, 537, 202, -1, -1, -1, -1, 781, 461, -1, -1, 87, -1, 553, -1, -1, -1, -1, -1, 145, -1, 660, -1, 265, 322, -1, 904, 170, -1, -1, 226, -1, -1, 660, -1, 687, 486, 928, 607, 728, -1, -1, -1, -1, -1, -1, -1, -1, 686, 908, -1, -1, -1, 623, 555, 546, -1, -1, 226, 43, 601, 748, 271, -1, -1, 170, -1, 279, -1, 660, -1, -1, -1, -1, 232, 98, -1, 498, 384, 692, 541, 246, 170, -1, 984, -1, -1, -1, -1, 630, -1, 98, -1, 410, -1, -1, -1, -1, 378, -1, -1, 553, -1, 372, 160, 87, -1, -1, -1, 956, -1, 230, -1, 920, -1\n"
     ]
    }
   ],
   "source": [
    "def vocab_encoder(tokens, vocab):\n",
    "    l = []\n",
    "    for word in tokens:\n",
    "        try:\n",
    "            l.append(vocab[word])\n",
    "        except:\n",
    "            l.append(-1)\n",
    "    return l\n",
    "    \n",
    "encoded_tokenized_data_train = list(\n",
    "        map(lambda x: vocab_encoder(x,vectorizer.vocabulary_),\n",
    "            analyzed_data_train)\n",
    "        )\n",
    "\n",
    "encoded_tokenized_data_test = list(\n",
    "        map(lambda x: vocab_encoder(x,vectorizer.vocabulary_),\n",
    "            analyzed_data_test)\n",
    "        )\n",
    "\n",
    "# The document above after encoding with the tf-idf vectorizer\n",
    "print('The first newsgroup message after stripping English stopwords, applying the tf-idf vectorizer and encoding:',\n",
    "      '\\n\\n',\n",
    "      ', '.join([str(i) for i in encoded_tokenized_data_train[0]]))"
   ]
  },
  {
   "cell_type": "code",
   "execution_count": 6,
   "metadata": {
    "collapsed": false
   },
   "outputs": [],
   "source": [
    "def count_values_in_list(l,v):\n",
    "    '''\n",
    "    A function to count occurrences\n",
    "    of an item v in a list l\n",
    "    '''\n",
    "    _ = []\n",
    "    for i in v:\n",
    "        _.append(l.count(i))\n",
    "    return _\n",
    "\n",
    "encoded_tokenized_data_train_cnts = np.array([count_values_in_list(\n",
    "        encoded_tokenized_data_train[i],\n",
    "        np.arange(-1,VOCAB_SIZE))\n",
    "    for i in range(len(encoded_tokenized_data_train))])\n",
    "\n",
    "encoded_tokenized_data_test_cnts = np.array([count_values_in_list(\n",
    "        encoded_tokenized_data_test[i],\n",
    "        np.arange(-1,VOCAB_SIZE))\n",
    "    for i in range(len(encoded_tokenized_data_test))])\n",
    "    \n",
    "from sklearn.preprocessing import MaxAbsScaler\n",
    "# Scale data\n",
    "max_abs_scaler = MaxAbsScaler()\n",
    "X_train_scaled = max_abs_scaler.fit_transform(\n",
    "        encoded_tokenized_data_train_cnts)\n",
    "X_test_scaled = max_abs_scaler.transform(\n",
    "        encoded_tokenized_data_test_cnts)"
   ]
  },
  {
   "cell_type": "markdown",
   "metadata": {},
   "source": [
    "The first text classifier I construct is an ensemble of Support Vector Classifiers:"
   ]
  },
  {
   "cell_type": "code",
   "execution_count": 7,
   "metadata": {
    "collapsed": true
   },
   "outputs": [],
   "source": [
    "# Support Vector Classifier:\n",
    "# The computational complexity of SVMs grow between O(n_features x n_samples^) and O(n_features x n_samples^3)\n",
    "# Rather than fit one SVM classifier, I train an ensemble of SVM classifiers on subsets of the data and distribute\n",
    "# the training over multiple processors\n",
    "# Note: sklearn.ensemble.BaggingClassifier does not work properly when splitting the data\n",
    "# and running jobs on multiple processors if some of the partitions of the training data do not contain all classes\n",
    "# See the issue raised here: https://github.com/scikit-learn/scikit-learn/issues/8409\n",
    "# Have to spin up multiple jobs using multiprocess pooling (starmap allows you to provide datasets as an iterable)\n",
    "from sklearn.svm import SVC\n",
    "from multiprocessing import Pool\n",
    "from sklearn.model_selection import StratifiedKFold\n",
    "from sklearn.multiclass import OneVsRestClassifier\n",
    "from sklearn.metrics import roc_curve, auc\n",
    "\n",
    "n_splits = 5 # number of SVMs\n",
    "\n",
    "\n",
    "skf = StratifiedKFold(n_splits = n_splits, random_state = 0)\n",
    "indices = [j for i,j in skf.split(X_train_scaled,train_target)]\n",
    "X_train_datasets = [(i,j) for i,j in zip(\n",
    "        (X_train_scaled[k,:] for k in indices),\n",
    "         (train_target[k] for k in indices))]\n",
    "pool = Pool(n_splits)\n",
    "results = pool.starmap(\n",
    "        OneVsRestClassifier(\n",
    "                SVC(probability = True)\n",
    "                ).fit,X_train_datasets)\n",
    "outcomes = [result for result in results]\n",
    "\n",
    "def predict_proba(data,models):\n",
    "    '''\n",
    "    Takes a dataset and list of models that have predict_proba method and\n",
    "    returns DataFrame with average value of predict_proba for each class\n",
    "    '''\n",
    "    preds = [pd.DataFrame(model.predict_proba(data),\n",
    "                          columns = model.classes_)\n",
    "                          for model in models]\n",
    "    classes = set(sum([model.classes_.tolist() for model in models],[]))\n",
    "    d = pd.DataFrame()\n",
    "    for c in classes:\n",
    "        c_sum = 0\n",
    "        for p in preds:\n",
    "            if c in p.columns:\n",
    "                c_sum += p[c].values\n",
    "        d[c] = c_sum / len(preds)\n",
    "    return d[sorted(list(classes))]\n",
    "\n",
    "svm_predict_proba = predict_proba(X_test_scaled,outcomes).values"
   ]
  },
  {
   "cell_type": "code",
   "execution_count": 8,
   "metadata": {
    "collapsed": false
   },
   "outputs": [
    {
     "data": {
      "image/png": "[encoded data removed]",
      "text/plain": [
       "<matplotlib.figure.Figure at 0x25f407a4be0>"
      ]
     },
     "metadata": {},
     "output_type": "display_data"
    },
    {
     "name": "stdout",
     "output_type": "stream",
     "text": [
      "Classification Report for Ensemble of Support Vector Classifiers: \n",
      "                          precision    recall  f1-score   support\n",
      "\n",
      "             alt.atheism       0.58      0.05      0.09       319\n",
      "           comp.graphics       0.82      0.12      0.21       389\n",
      " comp.os.ms-windows.misc       0.80      0.20      0.31       394\n",
      "comp.sys.ibm.pc.hardware       0.54      0.28      0.37       392\n",
      "   comp.sys.mac.hardware       0.15      0.65      0.24       385\n",
      "          comp.windows.x       0.58      0.37      0.46       395\n",
      "            misc.forsale       0.45      0.80      0.57       390\n",
      "               rec.autos       0.31      0.44      0.37       396\n",
      "         rec.motorcycles       0.56      0.31      0.40       398\n",
      "      rec.sport.baseball       0.17      0.49      0.25       397\n",
      "        rec.sport.hockey       0.59      0.61      0.60       399\n",
      "               sci.crypt       0.58      0.47      0.52       396\n",
      "         sci.electronics       0.29      0.24      0.26       393\n",
      "                 sci.med       0.41      0.31      0.35       396\n",
      "               sci.space       0.50      0.28      0.36       394\n",
      "  soc.religion.christian       0.51      0.60      0.55       398\n",
      "      talk.politics.guns       0.49      0.26      0.34       364\n",
      "   talk.politics.mideast       0.68      0.52      0.59       376\n",
      "      talk.politics.misc       0.79      0.04      0.07       310\n",
      "      talk.religion.misc       0.00      0.00      0.00       251\n",
      "\n",
      "             avg / total       0.49      0.36      0.36      7532\n",
      "\n",
      "\n"
     ]
    }
   ],
   "source": [
    "fpr, tpr, _ = roc_curve(\n",
    "        (np.unique(test_target) == test_target[:,None]).astype(int).ravel(),\n",
    "         svm_predict_proba.ravel())\n",
    "\n",
    "plt.figure()\n",
    "plt.plot(fpr,tpr, color = 'darkorange')\n",
    "plt.plot([0,1],[0,1], color = 'navy')\n",
    "plt.title('Micro-averaged Receiver Operating Characteristic Curve\\nfor the Ensemble of Support Vector Classifiers')\n",
    "plt.show()\n",
    "prediction = svm_predict_proba.argmax(axis=1)\n",
    "print(\"Classification Report for Ensemble of Support Vector Classifiers: \\n%s\\n\"\n",
    "      % (classification_report(test_target,prediction,target_names = newsgroups_train.target_names)))"
   ]
  },
  {
   "cell_type": "markdown",
   "metadata": {},
   "source": [
    "Next we fit a Gaussian Naive Bayes Classifier:"
   ]
  },
  {
   "cell_type": "code",
   "execution_count": 9,
   "metadata": {
    "collapsed": true
   },
   "outputs": [],
   "source": [
    "from sklearn.naive_bayes import GaussianNB\n",
    "gnb = GaussianNB()\n",
    "gnb_pred = gnb.fit(X_train_scaled, train_target).predict(X_test_scaled)\n",
    "gnb_pred = gnb.predict(X_test_scaled)\n",
    "gnb_pred_proba = gnb.predict_proba(X_test_scaled)"
   ]
  },
  {
   "cell_type": "code",
   "execution_count": 10,
   "metadata": {
    "collapsed": false
   },
   "outputs": [
    {
     "data": {
      "image/png": "[encoded data removed]",
      "text/plain": [
       "<matplotlib.figure.Figure at 0x25f2f4e9c18>"
      ]
     },
     "metadata": {},
     "output_type": "display_data"
    },
    {
     "name": "stdout",
     "output_type": "stream",
     "text": [
      "Classification Report for Gaussian Naive Bayes Classifier: \n",
      "                          precision    recall  f1-score   support\n",
      "\n",
      "             alt.atheism       0.20      0.34      0.25       319\n",
      "           comp.graphics       0.31      0.25      0.27       389\n",
      " comp.os.ms-windows.misc       0.23      0.02      0.04       394\n",
      "comp.sys.ibm.pc.hardware       0.31      0.33      0.32       392\n",
      "   comp.sys.mac.hardware       0.17      0.60      0.27       385\n",
      "          comp.windows.x       0.46      0.18      0.26       395\n",
      "            misc.forsale       0.58      0.27      0.36       390\n",
      "               rec.autos       0.35      0.17      0.23       396\n",
      "         rec.motorcycles       0.30      0.39      0.34       398\n",
      "      rec.sport.baseball       0.14      0.71      0.24       397\n",
      "        rec.sport.hockey       0.40      0.28      0.33       399\n",
      "               sci.crypt       0.67      0.34      0.45       396\n",
      "         sci.electronics       0.34      0.08      0.13       393\n",
      "                 sci.med       0.52      0.11      0.18       396\n",
      "               sci.space       0.41      0.13      0.20       394\n",
      "  soc.religion.christian       0.47      0.26      0.33       398\n",
      "      talk.politics.guns       0.46      0.10      0.16       364\n",
      "   talk.politics.mideast       0.58      0.28      0.38       376\n",
      "      talk.politics.misc       0.27      0.15      0.19       310\n",
      "      talk.religion.misc       0.12      0.19      0.15       251\n",
      "\n",
      "             avg / total       0.37      0.26      0.26      7532\n",
      "\n",
      "\n"
     ]
    }
   ],
   "source": [
    "fpr, tpr, _ = roc_curve(\n",
    "        (np.unique(test_target) == test_target[:,None]).astype(int).ravel(),\n",
    "         gnb_pred_proba.ravel())\n",
    "\n",
    "plt.figure()\n",
    "plt.plot(fpr,tpr, color = 'darkorange')\n",
    "plt.plot([0,1],[0,1], color = 'navy')\n",
    "plt.title('Micro-averaged Receiver Operating Characteristic Curve\\nfor the Gaussian Naive Bayes Classifier')\n",
    "plt.show()\n",
    "\n",
    "print(\"Classification Report for Gaussian Naive Bayes Classifier: \\n%s\\n\"\n",
    "      % (classification_report(test_target,gnb_pred,target_names = newsgroups_train.target_names)))"
   ]
  },
  {
   "cell_type": "markdown",
   "metadata": {},
   "source": [
    "Lastly we fit a Feedforward Neural Network with two hidden layers:"
   ]
  },
  {
   "cell_type": "code",
   "execution_count": 11,
   "metadata": {
    "collapsed": false
   },
   "outputs": [
    {
     "name": "stderr",
     "output_type": "stream",
     "text": [
      "Using TensorFlow backend.\n"
     ]
    }
   ],
   "source": [
    "# Using keras with TensorFlow backend\n",
    "import keras\n",
    "from keras.layers import Input, Dense\n",
    "from keras.models import Model"
   ]
  },
  {
   "cell_type": "code",
   "execution_count": 13,
   "metadata": {
    "collapsed": false
   },
   "outputs": [
    {
     "data": {
      "text/plain": [
       "<keras.callbacks.History at 0x25f686df0b8>"
      ]
     },
     "execution_count": 13,
     "metadata": {},
     "output_type": "execute_result"
    }
   ],
   "source": [
    "inputs = Input(shape = (X_train_scaled.shape[1],))\n",
    "Layer1 = Dense(32,activation = 'sigmoid')(inputs)\n",
    "Layer2 = Dense(32, activation = 'sigmoid')(Layer1)\n",
    "out = Dense(20, activation = 'sigmoid')(Layer2)\n",
    "\n",
    "earlyStoppingCriteria = keras.callbacks.EarlyStopping(monitor='val_loss',\n",
    "                              min_delta=0,\n",
    "                              patience=20,\n",
    "                              verbose=0, mode='auto')\n",
    "\n",
    "FFNN = Model(inputs, out)\n",
    "FFNN.compile(loss='categorical_crossentropy',\n",
    "             optimizer='adam',\n",
    "             metrics = ['accuracy'])\n",
    "\n",
    "FFNN.fit(X_train_scaled,\n",
    "         (np.unique(train_target) == train_target[:,None]).astype(int),\n",
    "         epochs=500,\n",
    "         batch_size=1000,\n",
    "         verbose=0, # might want to change this to 1 when running the notebook yourself in order to track progress\n",
    "         callbacks = [earlyStoppingCriteria],\n",
    "         validation_data = (\n",
    "           X_test_scaled,\n",
    "           (np.unique(test_target) == test_target[:,None]).astype(int)\n",
    "         )\n",
    "        )"
   ]
  },
  {
   "cell_type": "code",
   "execution_count": 14,
   "metadata": {
    "collapsed": false
   },
   "outputs": [
    {
     "data": {
      "image/png": "[encoded data removed]",
      "text/plain": [
       "<matplotlib.figure.Figure at 0x25f67a3d898>"
      ]
     },
     "metadata": {},
     "output_type": "display_data"
    },
    {
     "name": "stdout",
     "output_type": "stream",
     "text": [
      "Classification Report for Feedforward Neural Network: \n",
      "                          precision    recall  f1-score   support\n",
      "\n",
      "             alt.atheism       0.23      0.28      0.25       319\n",
      "           comp.graphics       0.38      0.37      0.38       389\n",
      " comp.os.ms-windows.misc       0.44      0.45      0.44       394\n",
      "comp.sys.ibm.pc.hardware       0.46      0.39      0.42       392\n",
      "   comp.sys.mac.hardware       0.45      0.44      0.44       385\n",
      "          comp.windows.x       0.50      0.45      0.47       395\n",
      "            misc.forsale       0.71      0.68      0.69       390\n",
      "               rec.autos       0.45      0.47      0.46       396\n",
      "         rec.motorcycles       0.27      0.50      0.35       398\n",
      "      rec.sport.baseball       0.39      0.45      0.42       397\n",
      "        rec.sport.hockey       0.63      0.57      0.60       399\n",
      "               sci.crypt       0.59      0.54      0.56       396\n",
      "         sci.electronics       0.35      0.31      0.33       393\n",
      "                 sci.med       0.43      0.47      0.45       396\n",
      "               sci.space       0.45      0.45      0.45       394\n",
      "  soc.religion.christian       0.52      0.65      0.58       398\n",
      "      talk.politics.guns       0.40      0.41      0.40       364\n",
      "   talk.politics.mideast       0.64      0.52      0.57       376\n",
      "      talk.politics.misc       0.33      0.21      0.26       310\n",
      "      talk.religion.misc       0.25      0.04      0.07       251\n",
      "\n",
      "             avg / total       0.45      0.44      0.44      7532\n",
      "\n",
      "\n"
     ]
    }
   ],
   "source": [
    "FFNN_pred_proba = FFNN.predict(X_test_scaled)\n",
    "FFNN_pred = FFNN_pred_proba.argmax(axis=1)\n",
    "\n",
    "fpr, tpr, _ = roc_curve(\n",
    "        (np.unique(test_target) == test_target[:,None]).astype(int).ravel(),\n",
    "         FFNN_pred_proba.ravel())\n",
    "\n",
    "plt.figure()\n",
    "plt.plot(fpr,tpr, color = 'darkorange')\n",
    "plt.plot([0,1],[0,1], color = 'navy')\n",
    "plt.title('Micro-averaged Receiver Operating Characteristic Curve\\nfor the Feedforward Neural Network')\n",
    "plt.show()\n",
    "\n",
    "print(\"Classification Report for Feedforward Neural Network: \\n%s\\n\"\n",
    "      % (classification_report(test_target,FFNN_pred,target_names = newsgroups_train.target_names)))"
   ]
  },
  {
   "cell_type": "markdown",
   "metadata": {},
   "source": [
    "Although the Ensemble of Support Vector Classifiers had impressive overall precision, its recall was significantly worse than that of the Feedforward Neural Network. Therefore, if I were to select a model based on average f1-score, I would select the Feedforward Neural Network."
   ]
  }
 ],
 "metadata": {
  "kernelspec": {
   "display_name": "Python [conda env:python35]",
   "language": "python",
   "name": "conda-env-python35-py"
  },
  "language_info": {
   "codemirror_mode": {
    "name": "ipython",
    "version": 3
   },
   "file_extension": ".py",
   "mimetype": "text/x-python",
   "name": "python",
   "nbconvert_exporter": "python",
   "pygments_lexer": "ipython3",
   "version": "3.5.2"
  }
 },
 "nbformat": 4,
 "nbformat_minor": 2
}
