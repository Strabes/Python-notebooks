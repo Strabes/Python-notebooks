{
 "cells": [
  {
   "cell_type": "markdown",
   "metadata": {},
   "source": [
    "# Dynamic Programming in Python\n",
    "### Author: Greg Strabel\n",
    "\n",
    "Dynamic Programming is a mathematical paradigm and computer programming method used to solve complex optimization problems in a recursive manner. This notebook demonstrates a numerical implementation of one of the most popular methods for solving dynamic programming problems in Operations Research and Economics: Bellman function iteration.\n",
    "\n",
    "We assume an agent is attempting to solve the following infinite-horizon dynamic programming problem:\n",
    "In each discrete period, $t$, the agent observes a control variable, $k_{t-1} \\in K$, that she chose in the previous period and a state variable, $s_t \\in S$. The agent then selects a new control $k_t \\in K$ and receives an instantaneous payoff of $U(k_{t-1},s_t,k_t)$. The agent then moves into the next period, $t+1$, where the new state, $s_{t+1} \\in S$, is determined by a first-order Markov process; $s_{t+1}$ depending only on $s_t$ and $k_t$.\n",
    "\n",
    "In each period, $t$, the agent's goal is to select the control $k_t$ that maximizes exponentially discounted expected utility with discount factor $\\beta$: $$\\underset{k_t}{\\arg\\max} \\sum\\limits_{T=t}^{\\infty}{\\beta^{T-t} \\mathbb{E} \\left[ U(k_{T-1},s_T,k_T) \\; | \\; s_t, k_{t-1}, k_t \\right]}$$\n",
    "\n",
    "Define the Value Function, $V(k_0,s_1)$, as the optimum value of the programming problem starting from the initial conditions $(k_0,s_1)$. Because of the first-order Markov assumption, the programming problem is time-invariant, and it follows from the definition of the value function that: $$V(k,s) = \\underset{k'}{\\max} U(k,s,k') + \\beta \\mathbb{E} \\left[ V(k',s') \\; | \\; s,k' \\right]$$\n",
    "This is known as the Bellman equation.\n",
    "\n",
    "A key insight to solving this programming problem is that under a set of reasonable regularity conditions, the operator $$B:\\mathbb{R}^{K \\times S} \\mapsto \\mathbb{R}^{K \\times S}$$ defined by:\n",
    "$$B(F)(k,s) \\equiv \\underset{k'}{\\max} U(k,s,k') + \\beta \\mathbb{E} \\left[ F(k',s') \\; | \\; s,k' \\right]$$\n",
    "is a contraction mapping. Therefore, we can solve for $V$ by taking an initial guess $V_0 \\equiv 0$ and then iterating on this contraction mapping untill convergence to the true $V$.\n",
    "\n",
    "The following code implements this under the following assumptions:\n",
    "1.   $S = \\{ 0.9,1.1 \\}$ interpreted as low and high productivity states, respectively.\n",
    "\n",
    "2.   $K$ is a discrete set of points in the interval $\\left[ 0.00001, \\, 3 \\right]$\n",
    "\n",
    "3.   $U(k,s,k') = \\begin{cases} \\log \\left( s{k}^\\alpha - \\delta k - k' \\right) \\quad \\mathrm{if} \\quad s{k}^\\alpha - \\delta k - k' > 0\\\\ -\\infty \\quad \\mathrm{otherwise} \\end{cases}$\n",
    "\n",
    "4.   $\\mathbb{P} \\{ s' \\; | \\; s,k'  \\} = \\begin{cases} 0.9 \\quad \\mathrm{if} \\quad s = s'\\\\ 0.1 \\quad \\mathrm{otherwise} \\end{cases}$\n",
    "\n",
    "5.   $\\alpha = 0.33, \\; \\beta = 0.95, \\; \\delta = 0.5$"
   ]
  },
  {
   "cell_type": "code",
   "execution_count": 1,
   "metadata": {
    "collapsed": false
   },
   "outputs": [],
   "source": [
    "## Import statements\n",
    "from matplotlib import pyplot as plt\n",
    "%matplotlib inline\n",
    "from scipy import interp\n",
    "import numpy as np\n",
    "import itertools\n",
    "import pandas as pd"
   ]
  },
  {
   "cell_type": "code",
   "execution_count": 2,
   "metadata": {
    "collapsed": false
   },
   "outputs": [],
   "source": [
    "# Assign constant values\n",
    "# Construct grids of values for state and control variables over which function will be approximated\n",
    "S = 2; K = 300\n",
    "beta = 0.95\n",
    "delta = 0.5\n",
    "alpha = 0.33\n",
    "gridmin, gridmax, gridsize = 1e-5, 3, K\n",
    "controlSpace = np.linspace(gridmin, gridmax, gridsize)\n",
    "stateSpace = np.array([0.9,1.1])"
   ]
  },
  {
   "cell_type": "code",
   "execution_count": 3,
   "metadata": {
    "collapsed": false
   },
   "outputs": [],
   "source": [
    "# Initial guess for the value function\n",
    "V = np.zeros(shape=(K,S))"
   ]
  },
  {
   "cell_type": "code",
   "execution_count": 4,
   "metadata": {
    "collapsed": false
   },
   "outputs": [],
   "source": [
    "# Construct Markov state transition array\n",
    "p = np.array([[0.9,0.1],[0.1,0.9]]).reshape(2,1,2)\n",
    "P = np.hstack(tup=[p]*K)"
   ]
  },
  {
   "cell_type": "code",
   "execution_count": 5,
   "metadata": {
    "collapsed": false
   },
   "outputs": [],
   "source": [
    "# Construct instantaneous utility array with dimensions K x S x K\n",
    "U = np.empty((K,S,K))\n",
    "U[:] = np.nan\n",
    "        \n",
    "for k_idx in range(K):\n",
    "    k = controlSpace[k_idx]\n",
    "    for s_idx in range(S):\n",
    "        s = stateSpace[s_idx]\n",
    "        for k_p_idx in range(K):\n",
    "            k_p = controlSpace[k_p_idx]\n",
    "            c = s * k ** alpha + k * delta - k_p\n",
    "            if c <= 0:\n",
    "                U[k_idx,s_idx,k_p_idx] = -np.Inf\n",
    "            else:\n",
    "                U[k_idx,s_idx,k_p_idx] = np.log(c)\n",
    "            "
   ]
  },
  {
   "cell_type": "code",
   "execution_count": 6,
   "metadata": {
    "collapsed": false
   },
   "outputs": [],
   "source": [
    "# Construct Bellman contraction mapping operator and function to recover the optimal control policy\n",
    "\n",
    "def bellman(U,P,V,beta):\n",
    "    \"\"\"\n",
    "    Performs one iteration of the Bellman contraction mapping\n",
    "    \n",
    "    Inputs:\n",
    "    U: Instantaneous utility payoff: K x S x K\n",
    "    P: Markov Transition Array: S x K S\n",
    "    V: Current approximation of the value function: K x S\n",
    "    beta: exponential discounting factor\n",
    "    \n",
    "    Returns:\n",
    "    V_: Updated approximation of the value function\n",
    "    \"\"\"\n",
    "    K = U.shape[0]\n",
    "    S = U.shape[1]\n",
    "    E = np.empty((K,S,K))\n",
    "    E[:] = np.nan\n",
    "    \n",
    "    E = np.vstack(\n",
    "        [\n",
    "            np.sum(\n",
    "                (np.vstack([V[np.newaxis,:,:]] * S) * P)\n",
    "                ,axis=2)[np.newaxis,:,:]\n",
    "        ]*K\n",
    "    )\n",
    "    \n",
    "    V_ = np.amax(a = U + beta * E,axis=2)\n",
    "    return V_\n",
    "\n",
    "def policy(U,P,V,beta,controlSpace):\n",
    "    \"\"\"\n",
    "    Recovers an approximation to the optimal policy function\n",
    "    \n",
    "    Inputs:\n",
    "    U: Instantaneous utility payoff: K x S x K\n",
    "    P: Markov Transition Array: S x K S\n",
    "    V: Current approximation of the value function: K x S\n",
    "    beta: exponential discounting factor\n",
    "    controlSpace: 1d-array of the control space\n",
    "    \n",
    "    Returns:\n",
    "    Updated approximation of the optimal policy function: K x S\n",
    "    \"\"\"\n",
    "    K = U.shape[0]\n",
    "    S = U.shape[1]\n",
    "    E = np.empty((K,S,K))\n",
    "    E[:] = np.nan\n",
    "    \n",
    "    E = np.vstack(\n",
    "        [\n",
    "            np.sum(\n",
    "                (np.vstack([V[np.newaxis,:,:]] * S) * P)\n",
    "                ,axis=2)[np.newaxis,:,:]\n",
    "        ]*K\n",
    "    )\n",
    "    \n",
    "    pol_idx = np.argmax(a = U + beta * E,axis=2)\n",
    "    return controlSpace[pol_idx]"
   ]
  },
  {
   "cell_type": "code",
   "execution_count": 7,
   "metadata": {
    "collapsed": false
   },
   "outputs": [],
   "source": [
    "# Iterate the Bellman contraction mapping operator until a desired error tolerance is reached\n",
    "err = 1\n",
    "tol = 1e-3\n",
    "while err > tol:\n",
    "    V_ = bellman(U,P,V,beta)\n",
    "    pol = policy(U,P,V,beta,controlSpace)\n",
    "    err = np.max(np.abs(V-V_))\n",
    "    V = V_"
   ]
  },
  {
   "cell_type": "code",
   "execution_count": 8,
   "metadata": {
    "collapsed": false
   },
   "outputs": [
    {
     "data": {
      "text/plain": [
       "<matplotlib.text.Text at 0x2332e591f98>"
      ]
     },
     "execution_count": 8,
     "metadata": {},
     "output_type": "execute_result"
    },
    {
     "data": {
      "image/png": "[encoded data removed]",
      "text/plain": [
       "<matplotlib.figure.Figure at 0x2332566a8d0>"
      ]
     },
     "metadata": {},
     "output_type": "display_data"
    }
   ],
   "source": [
    "# Plot the optimal policy function\n",
    "ax = pd.DataFrame(pol,\n",
    "                  columns=['Low Productivity State','High Productivity State'],\n",
    "                  index=controlSpace).plot(title = 'Optimal Policy Function')\n",
    "ax.set_xlabel('k')\n",
    "ax.set_ylabel(\"k'\")"
   ]
  },
  {
   "cell_type": "code",
   "execution_count": 9,
   "metadata": {
    "collapsed": false
   },
   "outputs": [
    {
     "data": {
      "text/plain": [
       "<matplotlib.text.Text at 0x23331642048>"
      ]
     },
     "execution_count": 9,
     "metadata": {},
     "output_type": "execute_result"
    },
    {
     "data": {
      "image/png": "[encoded data removed]",
      "text/plain": [
       "<matplotlib.figure.Figure at 0x2333060ef60>"
      ]
     },
     "metadata": {},
     "output_type": "display_data"
    }
   ],
   "source": [
    "# Plot the Value Function\n",
    "ax = pd.DataFrame(V,\n",
    "             columns=['Low Productivity State',\n",
    "                      'High Productivity State'],\n",
    "             index=controlSpace).plot(title = 'Value Function',ylim=(-16,-8))\n",
    "ax.set_xlabel('k')\n",
    "ax.set_ylabel('V')"
   ]
  }
 ],
 "metadata": {
  "anaconda-cloud": {},
  "kernelspec": {
   "display_name": "Python [conda env:python35]",
   "language": "python",
   "name": "conda-env-python35-py"
  },
  "language_info": {
   "codemirror_mode": {
    "name": "ipython",
    "version": 3
   },
   "file_extension": ".py",
   "mimetype": "text/x-python",
   "name": "python",
   "nbconvert_exporter": "python",
   "pygments_lexer": "ipython3",
   "version": "3.5.2"
  }
 },
 "nbformat": 4,
 "nbformat_minor": 2
}
